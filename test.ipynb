{
 "cells": [
  {
   "cell_type": "code",
   "execution_count": 1,
   "metadata": {},
   "outputs": [],
   "source": [
    "import numpy as np\n",
    "import matplotlib.pyplot as plt"
   ]
  },
  {
   "cell_type": "code",
   "execution_count": 2,
   "metadata": {},
   "outputs": [],
   "source": [
    "Q = np.load(\"./q_table.npy\")"
   ]
  },
  {
   "cell_type": "code",
   "execution_count": 14,
   "metadata": {},
   "outputs": [
    {
     "data": {
      "text/plain": [
       "<matplotlib.image.AxesImage at 0x7fbb80bcc880>"
      ]
     },
     "execution_count": 14,
     "metadata": {},
     "output_type": "execute_result"
    },
    {
     "data": {
      "image/png": "[encoded data removed]",
      "text/plain": [
       "<Figure size 640x480 with 1 Axes>"
      ]
     },
     "metadata": {},
     "output_type": "display_data"
    }
   ],
   "source": [
    "# plot array Q on table with values as heatmap\n",
    "\n",
    "direction_dict = {\n",
    "    0: \"î\",\n",
    "    1: \"->\",\n",
    "    2: \"v\",\n",
    "    3: \"<-\"\n",
    "}\n",
    "\n",
    "matrix = np.zeros((12, 4))\n",
    "direction = np.zeros((12, 4))\n",
    "for i in range(12):\n",
    "    for j in range(4):\n",
    "        matrix[i][j] = np.max(Q[i+j])\n",
    "        direction[i][j] = np.argmax(Q[i+j])\n",
    "        # add text with direction[i][j] as direction\n",
    "        plt.text(j, i, direction_dict[direction[i][j]], ha=\"center\", va=\"center\", color=\"w\")\n",
    "plt.imshow(matrix, cmap='hot', interpolation='nearest')\n",
    "# plot Q table with actions as heatmap"
   ]
  },
  {
   "cell_type": "code",
   "execution_count": null,
   "metadata": {},
   "outputs": [],
   "source": []
  }
 ],
 "metadata": {
  "kernelspec": {
   "display_name": "Python 3",
   "language": "python",
   "name": "python3"
  },
  "language_info": {
   "codemirror_mode": {
    "name": "ipython",
    "version": 3
   },
   "file_extension": ".py",
   "mimetype": "text/x-python",
   "name": "python",
   "nbconvert_exporter": "python",
   "pygments_lexer": "ipython3",
   "version": "3.8.10"
  },
  "orig_nbformat": 4
 },
 "nbformat": 4,
 "nbformat_minor": 2
}
